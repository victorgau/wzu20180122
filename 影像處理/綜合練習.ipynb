{
 "cells": [
  {
   "cell_type": "markdown",
   "metadata": {},
   "source": [
    "# 樸克牌發牌程式"
   ]
  },
  {
   "cell_type": "code",
   "execution_count": 1,
   "metadata": {},
   "outputs": [
    {
     "name": "stdout",
     "output_type": "stream",
     "text": [
      "['S1', 'S2', 'S3', 'S4', 'S5', 'S6', 'S7', 'S8', 'S9', 'S10', 'S11', 'S12', 'S13', 'H1', 'H2', 'H3', 'H4', 'H5', 'H6', 'H7', 'H8', 'H9', 'H10', 'H11', 'H12', 'H13', 'C1', 'C2', 'C3', 'C4', 'C5', 'C6', 'C7', 'C8', 'C9', 'C10', 'C11', 'C12', 'C13', 'D1', 'D2', 'D3', 'D4', 'D5', 'D6', 'D7', 'D8', 'D9', 'D10', 'D11', 'D12', 'D13']\n"
     ]
    }
   ],
   "source": [
    "# 定義樸克牌\n",
    "numbers = range(1, 14)\n",
    "colors = ['S', 'H', 'C', 'D']\n",
    "cards = []\n",
    "\n",
    "# 產生一副樸克牌\n",
    "for c in colors:\n",
    "    for n in numbers:\n",
    "        cards.append(c + str(n))\n",
    "\n",
    "print(cards)"
   ]
  },
  {
   "cell_type": "code",
   "execution_count": 2,
   "metadata": {},
   "outputs": [
    {
     "name": "stdout",
     "output_type": "stream",
     "text": [
      "['H11', 'D5', 'D4', 'H6', 'S2', 'S3', 'S11', 'D3', 'D1', 'H1', 'S1', 'S13', 'C3', 'H8', 'H12', 'C13', 'S10', 'C12', 'H5', 'D11', 'S9', 'D7', 'C6', 'H7', 'D13', 'H4', 'C7', 'H9', 'D6', 'C9', 'H3', 'S6', 'C1', 'C11', 'S4', 'H10', 'S8', 'S7', 'D2', 'C2', 'D9', 'D8', 'S5', 'C8', 'C4', 'C10', 'D10', 'H2', 'S12', 'C5', 'H13', 'D12']\n"
     ]
    }
   ],
   "source": [
    "# 洗牌\n",
    "import random\n",
    "\n",
    "random.shuffle(cards)\n",
    "print(cards)"
   ]
  },
  {
   "cell_type": "code",
   "execution_count": 3,
   "metadata": {},
   "outputs": [
    {
     "data": {
      "text/plain": [
       "{0: ['H11', 'D5', 'D4', 'H6', 'S2'],\n",
       " 1: ['S3', 'S11', 'D3', 'D1', 'H1'],\n",
       " 2: ['S1', 'S13', 'C3', 'H8', 'H12'],\n",
       " 3: ['C13', 'S10', 'C12', 'H5', 'D11'],\n",
       " 4: ['S9', 'D7', 'C6', 'H7', 'D13']}"
      ]
     },
     "execution_count": 3,
     "metadata": {},
     "output_type": "execute_result"
    }
   ],
   "source": [
    "# 發牌\n",
    "\n",
    "players = 5\n",
    "c = 5\n",
    "\n",
    "i = 0\n",
    "p = {}\n",
    "while i < players:\n",
    "    p[i] = cards[i*c:(i+1)*c]\n",
    "    i += 1\n",
    "\n",
    "p"
   ]
  },
  {
   "cell_type": "code",
   "execution_count": 4,
   "metadata": {},
   "outputs": [
    {
     "data": {
      "text/html": [
       "<img style='width: 120px; margin: 5px; float: left; border: 1px solid black;' src='images/S3.png' /><img style='width: 120px; margin: 5px; float: left; border: 1px solid black;' src='images/S11.png' /><img style='width: 120px; margin: 5px; float: left; border: 1px solid black;' src='images/D3.png' /><img style='width: 120px; margin: 5px; float: left; border: 1px solid black;' src='images/D1.png' /><img style='width: 120px; margin: 5px; float: left; border: 1px solid black;' src='images/H1.png' />"
      ],
      "text/plain": [
       "<IPython.core.display.HTML object>"
      ]
     },
     "metadata": {},
     "output_type": "display_data"
    }
   ],
   "source": [
    "# 圖形顯示可以參考這裡: http://nbviewer.jupyter.org/github/PBrockmann/Dodecahedron/blob/master/Dodecahedron.ipynb\n",
    "from IPython.display import HTML, display\n",
    "imagesList=''.join( [\"<img style='width: 120px; margin: 5px; float: left; border: 1px solid black;' src='images/%s.png' />\" % s \n",
    "                     for s in p[1] ])\n",
    "display(HTML(imagesList))"
   ]
  }
 ],
 "metadata": {
  "kernelspec": {
   "display_name": "Python 3",
   "language": "python",
   "name": "python3"
  },
  "language_info": {
   "codemirror_mode": {
    "name": "ipython",
    "version": 3
   },
   "file_extension": ".py",
   "mimetype": "text/x-python",
   "name": "python",
   "nbconvert_exporter": "python",
   "pygments_lexer": "ipython3",
   "version": "3.6.2"
  }
 },
 "nbformat": 4,
 "nbformat_minor": 2
}
