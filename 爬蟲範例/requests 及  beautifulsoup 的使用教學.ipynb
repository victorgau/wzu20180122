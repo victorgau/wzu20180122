{
 "cells": [
  {
   "cell_type": "markdown",
   "metadata": {},
   "source": [
    "# requests 及 beautifulsoup 模組的使用教學"
   ]
  },
  {
   "cell_type": "code",
   "execution_count": 10,
   "metadata": {},
   "outputs": [],
   "source": [
    "# 載入需要的套件\n",
    "import requests\n",
    "from bs4 import BeautifulSoup\n",
    "import pprint"
   ]
  },
  {
   "cell_type": "markdown",
   "metadata": {},
   "source": [
    "## 讀取網頁原始碼"
   ]
  },
  {
   "cell_type": "code",
   "execution_count": 17,
   "metadata": {},
   "outputs": [
    {
     "data": {
      "text/plain": [
       "'<!doctype html>\\n<html>\\n<head>\\n    <title>Example Domain</title>\\n\\n    <meta charset=\"utf-8\" />\\n    <meta http-equiv=\"Content-type\" content=\"text/html; charset=utf-8\" />\\n    <meta name=\"viewport\" content=\"width=device-width, initial-scale=1\" />\\n    <style type=\"text/css\">\\n    body {\\n        background-color: #f0f0f2;\\n        margin: 0;\\n        padding: 0;\\n        font-family: \"Open Sans\", \"Helvetica Neue\", Helvetica, Arial, sans-serif;\\n        \\n    }\\n    div {\\n        width: 600px;\\n        margin: 5em auto;\\n        padding: 50px;\\n        background-color: #fff;\\n        border-radius: 1em;\\n    }\\n    a:link, a:visited {\\n        color: #38488f;\\n        text-decoration: none;\\n    }\\n    @media (max-width: 700px) {\\n        body {\\n            background-color: #fff;\\n        }\\n        div {\\n            width: auto;\\n            margin: 0 auto;\\n            border-radius: 0;\\n            padding: 1em;\\n        }\\n    }\\n    </style>    \\n</head>\\n\\n<body>\\n<div>\\n    <h1>Example Domain</h1>\\n    <p>This domain is established to be used for illustrative examples in documents. You may use this\\n    domain in examples without prior coordination or asking for permission.</p>\\n    <p><a href=\"http://www.iana.org/domains/example\">More information...</a></p>\\n</div>\\n</body>\\n</html>\\n'"
      ]
     },
     "execution_count": 17,
     "metadata": {},
     "output_type": "execute_result"
    }
   ],
   "source": [
    "url = 'http://example.com/'\n",
    "r = requests.get(url)\n",
    "r.text"
   ]
  },
  {
   "cell_type": "markdown",
   "metadata": {},
   "source": [
    "## 讓輸出更好看一點"
   ]
  },
  {
   "cell_type": "code",
   "execution_count": 18,
   "metadata": {},
   "outputs": [
    {
     "name": "stdout",
     "output_type": "stream",
     "text": [
      "('<!doctype html>\\n'\n",
      " '<html>\\n'\n",
      " '<head>\\n'\n",
      " '    <title>Example Domain</title>\\n'\n",
      " '\\n'\n",
      " '    <meta charset=\"utf-8\" />\\n'\n",
      " '    <meta http-equiv=\"Content-type\" content=\"text/html; charset=utf-8\" />\\n'\n",
      " '    <meta name=\"viewport\" content=\"width=device-width, initial-scale=1\" />\\n'\n",
      " '    <style type=\"text/css\">\\n'\n",
      " '    body {\\n'\n",
      " '        background-color: #f0f0f2;\\n'\n",
      " '        margin: 0;\\n'\n",
      " '        padding: 0;\\n'\n",
      " '        font-family: \"Open Sans\", \"Helvetica Neue\", Helvetica, Arial, '\n",
      " 'sans-serif;\\n'\n",
      " '        \\n'\n",
      " '    }\\n'\n",
      " '    div {\\n'\n",
      " '        width: 600px;\\n'\n",
      " '        margin: 5em auto;\\n'\n",
      " '        padding: 50px;\\n'\n",
      " '        background-color: #fff;\\n'\n",
      " '        border-radius: 1em;\\n'\n",
      " '    }\\n'\n",
      " '    a:link, a:visited {\\n'\n",
      " '        color: #38488f;\\n'\n",
      " '        text-decoration: none;\\n'\n",
      " '    }\\n'\n",
      " '    @media (max-width: 700px) {\\n'\n",
      " '        body {\\n'\n",
      " '            background-color: #fff;\\n'\n",
      " '        }\\n'\n",
      " '        div {\\n'\n",
      " '            width: auto;\\n'\n",
      " '            margin: 0 auto;\\n'\n",
      " '            border-radius: 0;\\n'\n",
      " '            padding: 1em;\\n'\n",
      " '        }\\n'\n",
      " '    }\\n'\n",
      " '    </style>    \\n'\n",
      " '</head>\\n'\n",
      " '\\n'\n",
      " '<body>\\n'\n",
      " '<div>\\n'\n",
      " '    <h1>Example Domain</h1>\\n'\n",
      " '    <p>This domain is established to be used for illustrative examples in '\n",
      " 'documents. You may use this\\n'\n",
      " '    domain in examples without prior coordination or asking for '\n",
      " 'permission.</p>\\n'\n",
      " '    <p><a href=\"http://www.iana.org/domains/example\">More '\n",
      " 'information...</a></p>\\n'\n",
      " '</div>\\n'\n",
      " '</body>\\n'\n",
      " '</html>\\n')\n"
     ]
    }
   ],
   "source": [
    "pp = pprint.PrettyPrinter(indent=4)\n",
    "pp.pprint(r.text)"
   ]
  },
  {
   "cell_type": "markdown",
   "metadata": {},
   "source": [
    "## 使用 beautifulsoup 剖析 html 原始碼"
   ]
  },
  {
   "cell_type": "code",
   "execution_count": 22,
   "metadata": {},
   "outputs": [
    {
     "data": {
      "text/plain": [
       "'This domain is established to be used for illustrative examples in documents. You may use this\\n    domain in examples without prior coordination or asking for permission.'"
      ]
     },
     "execution_count": 22,
     "metadata": {},
     "output_type": "execute_result"
    }
   ],
   "source": [
    "soup = BeautifulSoup(r.text, 'lxml')\n",
    "soup.select('body div p')[0].text"
   ]
  },
  {
   "cell_type": "markdown",
   "metadata": {},
   "source": [
    "## 使用 Requests + BeautifulSoup 抓取新聞文章"
   ]
  },
  {
   "cell_type": "code",
   "execution_count": 23,
   "metadata": {
    "collapsed": true
   },
   "outputs": [],
   "source": [
    "url = 'https://news.cnyes.com/news/id/3949102'"
   ]
  },
  {
   "cell_type": "code",
   "execution_count": 24,
   "metadata": {
    "collapsed": true
   },
   "outputs": [],
   "source": [
    "r = requests.get(url)"
   ]
  },
  {
   "cell_type": "code",
   "execution_count": 25,
   "metadata": {},
   "outputs": [],
   "source": [
    "soup = BeautifulSoup(r.text, 'lxml')"
   ]
  },
  {
   "cell_type": "code",
   "execution_count": 26,
   "metadata": {},
   "outputs": [
    {
     "data": {
      "text/plain": [
       "'美股指數期貨週四（26 日）走勢相對平淡，投資人聚焦另一系列大型企業財報數字。道瓊工業平均指數期貨上漲 43\\xa0點，標普 500 指數期貨與那斯達克 100 指數期貨分別上漲 3.00\\xa0點與下跌 2.00\\xa0點。\\n推特（Twitter）、福特（Ford）、西南航空（Southwest Airlines）與有線電視及寬頻網絡等供應商康卡斯特（Comcast）等皆於盤前公佈上季財報。其中，推特財報表現優於市場預期，推升股價盤前大漲超過 10% ，福特上季獲利同樣超出華爾街預期，股價盤前上漲 1.5% 。\\n科技界財報重頭戲也即將展開，包括亞馬遜、 Google 母公司\\xa0Alphabet 、英特爾與微軟等，預計於週四美股盤後公佈上季財報數字。\\n央行同時也是週四國際市場的重點，投資人聚焦歐洲央行（European Central Bank）貨幣政策決議，與美國聯準會（U.S. Federal Reserve）下屆主席人選的消息。\\n根據《路透社》近期公佈市場調查，較多的經濟學家預期聯準會理事鮑爾（Jerome Powell）將成為下屆聯準會主席。另外，投資人預期歐洲央行本次會議將宣佈，該央行將開始採取退出極度寬鬆貨幣政策的計畫。\\n'"
      ]
     },
     "execution_count": 26,
     "metadata": {},
     "output_type": "execute_result"
    }
   ],
   "source": [
    "soup.select('div[itemprop=\"articleBody\"]')[0].text"
   ]
  },
  {
   "cell_type": "markdown",
   "metadata": {},
   "source": [
    "## 練習\n",
    "\n",
    "請抓取底下 url 的新聞文章。"
   ]
  },
  {
   "cell_type": "code",
   "execution_count": null,
   "metadata": {
    "collapsed": true
   },
   "outputs": [],
   "source": [
    "url = 'https://tw.finance.appledaily.com/realtime/20180121/1283033/'"
   ]
  },
  {
   "cell_type": "markdown",
   "metadata": {},
   "source": [
    "## 進階使用"
   ]
  },
  {
   "cell_type": "markdown",
   "metadata": {},
   "source": [
    "參考：[[爬蟲實戰] 如何告訴PTT我已滿18並順利抓取八卦版的文章 ?](http://largitdata.com/course/46/)"
   ]
  },
  {
   "cell_type": "code",
   "execution_count": 33,
   "metadata": {},
   "outputs": [
    {
     "name": "stderr",
     "output_type": "stream",
     "text": [
      "C:\\Users\\victor\\Anaconda3\\lib\\site-packages\\urllib3\\connectionpool.py:858: InsecureRequestWarning: Unverified HTTPS request is being made. Adding certificate verification is strongly advised. See: https://urllib3.readthedocs.io/en/latest/advanced-usage.html#ssl-warnings\n",
      "  InsecureRequestWarning)\n",
      "C:\\Users\\victor\\Anaconda3\\lib\\site-packages\\urllib3\\connectionpool.py:858: InsecureRequestWarning: Unverified HTTPS request is being made. Adding certificate verification is strongly advised. See: https://urllib3.readthedocs.io/en/latest/advanced-usage.html#ssl-warnings\n",
      "  InsecureRequestWarning)\n",
      "C:\\Users\\victor\\Anaconda3\\lib\\site-packages\\urllib3\\connectionpool.py:858: InsecureRequestWarning: Unverified HTTPS request is being made. Adding certificate verification is strongly advised. See: https://urllib3.readthedocs.io/en/latest/advanced-usage.html#ssl-warnings\n",
      "  InsecureRequestWarning)\n"
     ]
    },
    {
     "name": "stdout",
     "output_type": "stream",
     "text": [
      " 1/21 gok338338 \n",
      "[問卦]玩股票的都說中國科技海放台灣\n",
      "\n",
      " 1/21 feelcool \n",
      "Re: [新聞] 驚！台人赴日必買5種藥 日本人竟然幾乎沒\n",
      "\n",
      " 1/21 ccyaztfe \n",
      "Re: [問卦] 安西教練到底靠什麼過活？\n",
      "\n",
      " 1/21 pchion2013 \n",
      "[問卦] 悲！慟！剛剛被人借50加油\n",
      "\n",
      " 1/21 tinhanho \n",
      "[問卦] 果醬爺爺到底靠什麼過活\n",
      "\n",
      " 1/21 Mulsanne \n",
      "[問卦] 如何讓黃牛賠到脫褲\n",
      "\n",
      " 1/21 oppo5566 \n",
      "[問卦] 仰臥起坐一次能做7下算什麼水準？\n",
      "\n",
      " 1/21 geordie \n",
      "Re: [新聞] 邱垂正：暫緩加班機是正告對岸儘速協商\n",
      "\n",
      " 1/21 kilig \n",
      "Re: [問卦] 「可憐之人必有可恨之處」是真理嗎?\n",
      "\n",
      " 1/21 dudeboy \n",
      "[問卦] 內褲上的黃漬要怎麼去除啊\n",
      "\n",
      " 1/21 hazel0093 \n",
      "[ＦＢ] 吳秉叡：校園安全拉緊報\n",
      "\n",
      " 1/21 huice \n",
      "[問卦] 有沒有數位修復的八卦？\n",
      "\n",
      " 1/21 uini \n",
      "[新聞] 拋家棄子找小三 中風後竟求子女扶養\n",
      "\n",
      " 1/21 blackkeyss \n",
      "[問卦] 肥宅時間過的比較慢？\n",
      "\n",
      " 1/21 nasa3137 \n",
      "[問卦] 1100含服務費吃什麼最划算\n",
      "\n",
      " 1/21 shark0326 \n",
      "[爆卦] 匿名粉專錄事馬西郎真實性存疑(文末雞排)\n",
      "\n",
      " 1/21 tony900735 \n",
      "Re: [問卦] 公務員有多爽離職率才會遠低於3%？\n",
      "\n",
      " 1/21 YU0121 \n",
      "[問卦] 龜頭都乾扁扁的是不是生病了？\n",
      "\n",
      " 1/21 CuteGG \n",
      "[問卦] PS4最近有其他遊戲能和魔物獵人一拚的嗎\n",
      "\n",
      " 1/21 giorno78 \n",
      "Re: [問卦] 當youtuber是不是本來就要家境不錯？\n",
      "\n",
      "11/11 Kay731 \n",
      "[公告] 八卦板板規(2017.12.01)\n",
      "\n",
      " 1/17 only385 \n",
      "[問卦] 1/15 高雄楠梓區重大車禍 行車記錄器影\n",
      "\n",
      " 1/18 woohyuk49 \n",
      "【協尋】父親失蹤，懇請大家幫忙！\n",
      "\n",
      " 1/17 littleaunt \n",
      "[問卦] 1/15高雄小港機場-停車場2號出口車禍\n",
      "\n",
      " 1/01 Kay731 \n",
      "[公告] 元月份八卦板置底閒聊文\n",
      "\n"
     ]
    }
   ],
   "source": [
    "payload = {\n",
    "    'from':'/bbs/Gossiping/index.html',\n",
    "    'yes':'yes'\n",
    "}\n",
    "rs = requests.session()\n",
    "res = rs.post('https://www.ptt.cc/ask/over18', verify=False, data=payload)\n",
    "res = rs.get('https://www.ptt.cc/bbs/Gossiping/index.html', verify=False)\n",
    "soup = BeautifulSoup(res.text, 'lxml')\n",
    "for entry in soup.select('.r-ent'):\n",
    "    print(entry.select('.date')[0].text, entry.select('.author')[0].text, entry.select('.title')[0].text)"
   ]
  }
 ],
 "metadata": {
  "kernelspec": {
   "display_name": "Python 3",
   "language": "python",
   "name": "python3"
  },
  "language_info": {
   "codemirror_mode": {
    "name": "ipython",
    "version": 3
   },
   "file_extension": ".py",
   "mimetype": "text/x-python",
   "name": "python",
   "nbconvert_exporter": "python",
   "pygments_lexer": "ipython3",
   "version": "3.6.2"
  }
 },
 "nbformat": 4,
 "nbformat_minor": 2
}
