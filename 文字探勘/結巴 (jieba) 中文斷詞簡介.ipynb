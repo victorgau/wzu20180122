{
 "cells": [
  {
   "cell_type": "markdown",
   "metadata": {},
   "source": [
    "# 結巴 (Jieba) 中文斷詞簡介\n",
    "\n",
    "## Victor Gau (victorgau@gmail.com)\n",
    "\n",
    "## 2018/01/21"
   ]
  },
  {
   "cell_type": "markdown",
   "metadata": {},
   "source": [
    "## 參考資料：\n",
    "\n",
    "* [Jieba 官網](https://github.com/fxsjy/jieba)\n",
    "* [如何使用 JIEBA 結巴中文分詞程式](http://blog.fukuball.com/ru-he-shi-yong-jieba-jie-ba-zhong-wen-fen-ci-cheng-shi/)\n",
    "* [Jieba 結巴中文斷詞](https://speakerdeck.com/fukuball/jieba-jie-ba-zhong-wen-duan-ci)\n",
    "* [用 Python 打造你自己的 summly](http://www.slideshare.net/daikeren/python-summly)\n",
    "* [20150912 PyCon China 上海- 中文搜索经验分享](https://www.youtube.com/watch?v=KCeqTaJC0U8)"
   ]
  },
  {
   "cell_type": "markdown",
   "metadata": {},
   "source": [
    "## 什麼是 Jieba ?\n",
    "\n",
    "### 號稱是最好的中文斷詞系統。"
   ]
  },
  {
   "cell_type": "markdown",
   "metadata": {},
   "source": [
    "## 安裝 Jieba\n",
    "\n",
    "```\n",
    "pip install jieba\n",
    "```"
   ]
  },
  {
   "cell_type": "markdown",
   "metadata": {},
   "source": [
    "## 怎麼使用 Jieba?"
   ]
  },
  {
   "cell_type": "code",
   "execution_count": 1,
   "metadata": {},
   "outputs": [
    {
     "name": "stderr",
     "output_type": "stream",
     "text": [
      "Building prefix dict from the default dictionary ...\n",
      "Loading model from cache C:\\Users\\victor\\AppData\\Local\\Temp\\jieba.cache\n",
      "Loading model cost 0.730 seconds.\n",
      "Prefix dict has been built succesfully.\n"
     ]
    },
    {
     "name": "stdout",
     "output_type": "stream",
     "text": [
      "謝謝/ 大家/ 今天/ 來/ 高雄/ 的/ 文藻/ 大學/ 參加/ Python/ 研習/ 的/ 活動/ !\n"
     ]
    }
   ],
   "source": [
    "import jieba\n",
    "\n",
    "sentence = \"謝謝大家今天來高雄的文藻大學參加Python研習的活動!\"\n",
    "\n",
    "seg_list = jieba.cut(sentence)\n",
    "print(\"/ \".join(seg_list))"
   ]
  },
  {
   "cell_type": "code",
   "execution_count": 2,
   "metadata": {},
   "outputs": [
    {
     "name": "stdout",
     "output_type": "stream",
     "text": [
      "謝/ 謝/ 大家/ 今天/ 來/ 高/ 雄/ 的/ 文藻/ 大/ 學/ 參/ 加/ Python/ 研/ 習/ 的/ 活/ 動/ / \n"
     ]
    }
   ],
   "source": [
    "# cut_all\n",
    "\n",
    "seg_list = jieba.cut(sentence, cut_all=True)\n",
    "print(\"/ \".join(seg_list))"
   ]
  },
  {
   "cell_type": "code",
   "execution_count": 3,
   "metadata": {},
   "outputs": [
    {
     "name": "stdout",
     "output_type": "stream",
     "text": [
      "謝謝/ 大家/ 今天/ 來/ 高雄/ 的/ 文藻/ 大學/ 參加/ Python/ 研習/ 的/ 活動/ !\n"
     ]
    }
   ],
   "source": [
    "# cut_for_search\n",
    "\n",
    "seg_list = jieba.cut_for_search(sentence)\n",
    "print(\"/ \".join(seg_list))"
   ]
  },
  {
   "cell_type": "markdown",
   "metadata": {},
   "source": [
    "## 詞性 (Part-of-Speech) 標記\n"
   ]
  },
  {
   "cell_type": "code",
   "execution_count": 4,
   "metadata": {},
   "outputs": [
    {
     "name": "stdout",
     "output_type": "stream",
     "text": [
      "謝謝 : nr\n",
      "大家 : n\n",
      "今天 : t\n",
      "來高雄 : nr\n",
      "的 : uj\n",
      "文藻 : n\n",
      "大學 : n\n",
      "參加 : v\n",
      "Python : eng\n",
      "研習 : vn\n",
      "的 : uj\n",
      "活動 : vn\n",
      "! : x\n"
     ]
    }
   ],
   "source": [
    "import jieba.posseg as posg\n",
    "\n",
    "words = posg.cut(sentence)\n",
    "\n",
    "for word, flag in words:\n",
    "    print(\"%s : %s\" % (word, flag))"
   ]
  },
  {
   "cell_type": "markdown",
   "metadata": {},
   "source": [
    "## 關於詞性的對照表，可以參考\n",
    "\n",
    "* [词性对照说明.中科院版本](https://github.com/NLPchina/ansj_seg/wiki/词性对照说明.中科院版本)\n",
    "* [ICTCLASTokenizer](https://github.com/rudaoshi/ICTCLASTokenizer/blob/master/src/ictclas/part-of-speech.txt)"
   ]
  },
  {
   "cell_type": "markdown",
   "metadata": {},
   "source": [
    "## 關於辭典\n",
    "\n",
    "* 使用繁體詞庫\n",
    "* 使用者定義詞庫\n",
    "* 動態加入新詞"
   ]
  },
  {
   "cell_type": "code",
   "execution_count": 5,
   "metadata": {},
   "outputs": [
    {
     "name": "stderr",
     "output_type": "stream",
     "text": [
      "Building prefix dict from C:\\Users\\victor\\Projects\\wzu20180122\\文字探勘\\dict.txt.big ...\n",
      "Dumping model to file cache C:\\Users\\victor\\AppData\\Local\\Temp\\jieba.u44800624480670b8704f7f7d704aa76b.cache\n",
      "Loading model cost 1.471 seconds.\n",
      "Prefix dict has been built succesfully.\n"
     ]
    },
    {
     "name": "stdout",
     "output_type": "stream",
     "text": [
      "謝謝/ 大家/ 今天/ 來/ 高雄/ 的/ 文藻/ 大學/ 參加/ Python/ 研習/ 的/ 活動/ !\n"
     ]
    }
   ],
   "source": [
    "# 使用繁體詞庫\n",
    "# 繁體詞庫可以從這裡下載：https://github.com/fxsjy/jieba/raw/master/extra_dict/dict.txt.big\n",
    "\n",
    "jieba.set_dictionary('dict.txt.big')\n",
    "\n",
    "seg_list = jieba.cut(sentence)\n",
    "print(\"/ \".join(seg_list))"
   ]
  },
  {
   "cell_type": "code",
   "execution_count": 6,
   "metadata": {},
   "outputs": [
    {
     "name": "stdout",
     "output_type": "stream",
     "text": [
      "謝謝/ 大家/ 今天/ 來/ 高雄/ 的/ 文藻大學/ 參加/ Python/ 研習/ 的/ 活動/ !\n"
     ]
    }
   ],
   "source": [
    "# 使用者自定義詞庫\n",
    "# 自定義詞庫必須是 UTF-8 編碼\n",
    "jieba.load_userdict('userdict.txt')\n",
    "\n",
    "seg_list = jieba.cut(sentence)\n",
    "print(\"/ \".join(seg_list))"
   ]
  },
  {
   "cell_type": "code",
   "execution_count": 7,
   "metadata": {},
   "outputs": [
    {
     "name": "stdout",
     "output_type": "stream",
     "text": [
      "謝謝/ 大家/ 今天/ 來/ 高雄/ 的/ 文藻大學/ 參加/ Python/ 研習/ 的/ 活動/ !\n"
     ]
    }
   ],
   "source": [
    "jieba.add_word(u\"文藻大學\", freq=None, tag=None)\n",
    "seg_list = jieba.cut(sentence)\n",
    "print(\"/ \".join(seg_list))"
   ]
  },
  {
   "cell_type": "markdown",
   "metadata": {},
   "source": [
    "## 關鍵詞提取"
   ]
  },
  {
   "cell_type": "code",
   "execution_count": 12,
   "metadata": {
    "collapsed": true
   },
   "outputs": [],
   "source": [
    "import jieba.analyse"
   ]
  },
  {
   "cell_type": "code",
   "execution_count": 9,
   "metadata": {},
   "outputs": [
    {
     "name": "stdout",
     "output_type": "stream",
     "text": [
      "朱自清  背影\n",
      "\n",
      "  \n",
      "　　我與父親不相見已有二年餘了，我最不能忘記的是他的背影。那年冬天，祖母死 \n",
      "了，父親的差使也交卸了，正是禍不單行的日子，我從北京到徐州，打算跟父親奔喪 \n",
      "回家。到徐州見著父親，看見滿院狼藉的東西，又想起祖母，不禁簌簌地流下眼淚。 \n",
      "父親說：「事已如此，不必難過，好在天無絕人之路！」\n",
      "　　回家變賣典質，父親還了虧空；又借錢辦了喪事。這些日子，家中光景很是慘淡 \n",
      "，一半為了喪事，一半為了父親賦閒。喪事完畢，父親要到南京謀事，我也要回到北 \n",
      "京唸書，我們便同行。\n",
      "\n",
      "　　到南京時，有朋友約去遊逛，勾留了一日﹔第二日上午便須渡江到浦口，下午上 \n",
      "車北去。父親因為事忙，本已說定不送我，叫旅館裡一個熟識的茶房陪我同去。他再 \n",
      "三囑咐茶房，甚是仔細。但他終於不放心，怕茶房不妥貼；頗躊躇了一會。其實我那 \n",
      "年已二十歲，北京已來往過兩三次，是沒有甚麼要緊的了。他躊躇了一會，終于決定 \n",
      "還是自己送我去。我兩三回勸他不必去﹔他只說：「不要緊，他們去不好！」\n",
      "\n",
      "　　我們過了江，進了車站。我買票，他忙著照看行李。行李太多了，得向腳夫行些 \n",
      "小費，才可過去。他便又忙著和他們講價錢。我那時真是聰明過份，總覺他說話不大 \n",
      "漂亮，非自己插嘴不可。但他終於講定了價錢；就送我上車。他給我揀定了靠車門的 \n",
      "一張椅子；我將他給我做的紫毛大衣鋪好坐位。他囑我路上小心，夜裡要警醒些，不 \n",
      "要受涼。又囑托茶房好好照應我。我心裡暗笑他的迂；他們只認得錢，托他們直是白 \n",
      "托！而且我這樣大年紀的人，難道還不能料理自己麼？唉，我現在想想，那時真是太 \n",
      "聰明了。\n",
      "\n",
      "　　我說道：「爸爸，你走吧。」他往車外看了看，說，「我買幾個橘子去。你就在 \n",
      "此地，不要走動。」我看那邊月臺的柵欄外有幾個賣東西的等著顧客。走到那邊月臺 \n",
      "，須穿過鐵道，須跳下去又爬上去。父親是一個胖子，走過去自然要費事些。我本來 \n",
      "要去的，他不肯，只好讓他去。我看見他戴著黑布小帽，穿著黑布大馬褂，深青布棉 \n",
      "袍，蹣跚地走到鐵道邊，慢慢探身下去，尚不大難。可是他穿過鐵道，要爬上那邊月 \n",
      "臺，就不容易了。他用兩手攀著上面，兩腳再向上縮；他肥胖的身子向左微傾，顯出 \n",
      "努力的樣子。這時我看見他的背影，我的淚很快地流下來了。我趕緊拭幹了淚，怕他 \n",
      "看見，也怕別人看見。我再向外看時，他已抱了朱紅的橘子往回走了。過鐵道時，他 \n",
      "先將桔子散放在地上，自己慢慢爬下，再抱起桔子走。到這邊時，我趕緊去攙他。他 \n",
      "和我走到車上，將橘子一股腦兒放在我的皮大衣上。於是撲撲衣上的泥土，心裡很輕 \n",
      "鬆似的，過一會說：「我走了，到那邊來信！」我望著他走出去。他走了幾步，回過 \n",
      "頭看見我，說：「進去吧，裏邊沒人。」等他的背影混入來來往往的人裡，再找不著 \n",
      "了，我便進來坐下，我的眼淚又來了。\n",
      "\n",
      "　　近幾年來，父親和我都是東奔西走，家中光景是一日不如一日。他少年出外謀生 \n",
      "，獨立支持，做了許多大事。哪知環境卻如此頹唐！他觸目傷懷，自然情不能自己。 \n",
      "情郁於中，自然要發之於外；家庭瑣屑便往往觸他之怒。他待我漸漸不同往日。但最 \n",
      "近兩年不見，他終於忘卻我的不好，只是惦記著我，惦記著我的兒子。我北來後，他 \n",
      "寫了一封信給我，信中說道，「我身體平安，惟膀子疼痛利害，舉箸提筆，諸多不便 \n",
      "，大約大去之期不遠矣。」我讀到此處，在晶瑩的淚光中，又看見那肥胖的，青布棉 \n",
      "袍，黑布馬褂的北影。唉！我不知何時再能與他相見！\n",
      "\n",
      "　　　　　　　　　　 1925年10月在北京 \n",
      "  \n",
      " \n",
      "\n",
      "\n"
     ]
    }
   ],
   "source": [
    "file = open(\"dadsback.txt\", encoding='UTF-8')\n",
    "article = file.read()\n",
    "print(article)"
   ]
  },
  {
   "cell_type": "code",
   "execution_count": 13,
   "metadata": {},
   "outputs": [
    {
     "name": "stderr",
     "output_type": "stream",
     "text": [
      "Building prefix dict from C:\\Users\\victor\\Projects\\wzu20180122\\文字探勘\\dict.txt.big ...\n",
      "Loading model from cache C:\\Users\\victor\\AppData\\Local\\Temp\\jieba.u44800624480670b8704f7f7d704aa76b.cache\n",
      "Loading model cost 1.235 seconds.\n",
      "Prefix dict has been built succesfully.\n"
     ]
    },
    {
     "name": "stdout",
     "output_type": "stream",
     "text": [
      "父親/ 看見/ 他們/ 那邊/ 鐵道/ 茶房/ 喪事/ 終於/ 一會/ 背影\n"
     ]
    }
   ],
   "source": [
    "# 使用 jieba.analyse.extract_tags()\n",
    "# 這個是使用 TF-IDF 的演算法\n",
    "jieba.set_dictionary('dict.txt.big')\n",
    "\n",
    "keywords = jieba.analyse.extract_tags(article, topK=10, withWeight=False)\n",
    "\n",
    "print(\"/ \".join(keywords))"
   ]
  },
  {
   "cell_type": "code",
   "execution_count": 14,
   "metadata": {},
   "outputs": [
    {
     "name": "stdout",
     "output_type": "stream",
     "text": [
      "茶房/ 徐州/ 回家/ 北京/ 行李/ 桔子/ 橘子/ 放在/ 日子/ 紫毛\n"
     ]
    }
   ],
   "source": [
    "# 使用 jieba.analyse.text_rank()\n",
    "\n",
    "keywords = jieba.analyse.textrank(article, topK=10, withWeight=False)\n",
    "\n",
    "print(\"/ \".join(keywords))"
   ]
  }
 ],
 "metadata": {
  "kernelspec": {
   "display_name": "Python 3",
   "language": "python",
   "name": "python3"
  },
  "language_info": {
   "codemirror_mode": {
    "name": "ipython",
    "version": 3
   },
   "file_extension": ".py",
   "mimetype": "text/x-python",
   "name": "python",
   "nbconvert_exporter": "python",
   "pygments_lexer": "ipython3",
   "version": "3.6.2"
  }
 },
 "nbformat": 4,
 "nbformat_minor": 1
}
