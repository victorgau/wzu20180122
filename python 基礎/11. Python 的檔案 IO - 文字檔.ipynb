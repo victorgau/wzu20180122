{
 "cells": [
  {
   "cell_type": "markdown",
   "metadata": {},
   "source": [
    "# Python 的檔案 IO\n",
    "\n",
    "檔案 (Files) 裡面存放的是位元組 (Bytes)。\n",
    "\n",
    "如果檔案內的所有位元組可以對應到任何語系的任何字元，則該檔案可以歸類為文字檔 (Text Files)，如果不行則該檔案是二進位檔 (Binary Files)。\n",
    "\n",
    "檔案的分類：\n",
    "\n",
    "* 文字檔\n",
    "  - 一般文字檔\n",
    "  - .csv (Comma-Separated Values)\n",
    "  - .html (<標籤> </標籤>)\n",
    "* 二進位檔\n",
    "  - 圖片檔\n",
    "  - .xls, .xlsx"
   ]
  },
  {
   "cell_type": "markdown",
   "metadata": {},
   "source": [
    "## 檔案的讀寫方式\n",
    "\n",
    "1. 使用 open() 來打開檔案，並選擇操作模式 (mode)，預設的操作模式為 'r'，即讀取模式。\n",
    "2. 使用 read() 或 write() 等等方法來讀寫檔案。\n",
    "3. 使用 close() 來關閉檔案，將記憶體內的位元組寫入檔案，並釋放資源。"
   ]
  },
  {
   "cell_type": "markdown",
   "metadata": {},
   "source": [
    "## open() 的模式 (mode) 字元：\n",
    "\n",
    "|字元|說明|\n",
    "|:-:|:-|\n",
    "|r|讀取模式|\n",
    "|w|寫入模式|\n",
    "|x|檔案不存在時才寫入|\n",
    "|a|附加模式|\n",
    "|b|二進位模式|\n",
    "|t|文字模式|\n",
    "|+|更新模式|"
   ]
  },
  {
   "cell_type": "markdown",
   "metadata": {},
   "source": [
    "## 讀取文字檔"
   ]
  },
  {
   "cell_type": "markdown",
   "metadata": {},
   "source": [
    "用下面三個函式，讀取文字檔資料：\n",
    "\n",
    "* read()：一次讀完全部內容。\n",
    "* readline()：一次讀一行。\n",
    "* readlines()：一次讀完全部的行數，並放在 list 裡面。"
   ]
  },
  {
   "cell_type": "code",
   "execution_count": 4,
   "metadata": {},
   "outputs": [
    {
     "name": "stdout",
     "output_type": "stream",
     "text": [
      "abc\n",
      "def\n",
      "dajkfjsf\n",
      "dslkfjsfl\n",
      "sldkjfsk\n",
      "dsflkjl\n"
     ]
    }
   ],
   "source": [
    "# 方法一\n",
    "f = open('test.txt')\n",
    "data = f.read()\n",
    "print(data)\n",
    "f.close()"
   ]
  },
  {
   "cell_type": "code",
   "execution_count": 6,
   "metadata": {},
   "outputs": [
    {
     "name": "stdout",
     "output_type": "stream",
     "text": [
      "abc\n",
      "def\n",
      "dajkfjsf\n",
      "dslkfjsfl\n",
      "sldkjfsk\n",
      "dsflkjl"
     ]
    }
   ],
   "source": [
    "# 方法二\n",
    "f = open('test.txt')\n",
    "line = f.readline()\n",
    "while line:\n",
    "    print(line, end=\"\")\n",
    "    line = f.readline()\n",
    "f.close()"
   ]
  },
  {
   "cell_type": "code",
   "execution_count": 7,
   "metadata": {},
   "outputs": [
    {
     "name": "stdout",
     "output_type": "stream",
     "text": [
      "abc\n",
      "def\n",
      "dajkfjsf\n",
      "dslkfjsfl\n",
      "sldkjfsk\n",
      "dsflkjl"
     ]
    }
   ],
   "source": [
    "# 方法三\n",
    "f = open('test.txt')\n",
    "lines = f.readlines()\n",
    "for line in lines:\n",
    "    print(line, end=\"\")\n",
    "f.close()"
   ]
  },
  {
   "cell_type": "code",
   "execution_count": 8,
   "metadata": {},
   "outputs": [
    {
     "name": "stdout",
     "output_type": "stream",
     "text": [
      "abc\n",
      "def\n",
      "dajkfjsf\n",
      "dslkfjsfl\n",
      "sldkjfsk\n",
      "dsflkjl"
     ]
    }
   ],
   "source": [
    "# 方法四\n",
    "f = open('test.txt')\n",
    "for line in f:\n",
    "    print(line, end=\"\")\n",
    "f.close()"
   ]
  },
  {
   "cell_type": "markdown",
   "metadata": {},
   "source": [
    "### 練習一\n",
    "\n",
    "* 請用 python 印出 homework01.txt 的內容。\n",
    "* 打開 homework01.txt，比較一下印出來的東西跟檔案裡面的是否一樣。"
   ]
  },
  {
   "cell_type": "markdown",
   "metadata": {},
   "source": [
    "## 寫入文字檔"
   ]
  },
  {
   "cell_type": "code",
   "execution_count": 9,
   "metadata": {
    "collapsed": true
   },
   "outputs": [],
   "source": [
    "f = open('test.txt', 'w')\n",
    "f.write('12345')\n",
    "f.close()"
   ]
  },
  {
   "cell_type": "code",
   "execution_count": 11,
   "metadata": {
    "collapsed": true
   },
   "outputs": [],
   "source": [
    "f = open('test.txt', 'a')\n",
    "f.write('de' + \"\\n\")\n",
    "f.write('bcde' + \"\\n\")\n",
    "f.close()"
   ]
  },
  {
   "cell_type": "markdown",
   "metadata": {},
   "source": [
    "### 練習二\n",
    "\n",
    "* 請將 test_str 字串的內容，寫入 homework02.txt 中。\n",
    "* 打開 homework02.txt，看看自己是否正確寫入。"
   ]
  },
  {
   "cell_type": "code",
   "execution_count": null,
   "metadata": {
    "collapsed": true
   },
   "outputs": [],
   "source": [
    "test_str = 'abc\\nbcd\\ncde'"
   ]
  }
 ],
 "metadata": {
  "kernelspec": {
   "display_name": "Python 3",
   "language": "python",
   "name": "python3"
  },
  "language_info": {
   "codemirror_mode": {
    "name": "ipython",
    "version": 3
   },
   "file_extension": ".py",
   "mimetype": "text/x-python",
   "name": "python",
   "nbconvert_exporter": "python",
   "pygments_lexer": "ipython3",
   "version": "3.6.2"
  }
 },
 "nbformat": 4,
 "nbformat_minor": 2
}
